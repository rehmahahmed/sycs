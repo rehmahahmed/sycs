
  {
   "cell_type": "code",
   "execution_count": 1,
   "id": "f707c403-c53e-46a8-a4df-f680c2e60256",
   "metadata": {},
   "outputs": [],
   "source": [
    "import pandas as pd\n",
    "import numpy as np\n",
    "from scipy import stats"
   ]
  },
  {
   "cell_type": "code",
   "execution_count": 2,
   "id": "024a5c59-e6a0-4585-9449-288fdef485db",
   "metadata": {},
   "outputs": [
    {
     "data": {
      "text/html": [
       "<div>\n",
       "<style scoped>\n",
       "    .dataframe tbody tr th:only-of-type {\n",
       "        vertical-align: middle;\n",
       "    }\n",
       "\n",
       "    .dataframe tbody tr th {\n",
       "        vertical-align: top;\n",
       "    }\n",
       "\n",
       "    .dataframe thead th {\n",
       "        text-align: right;\n",
       "    }\n",
       "</style>\n",
       "<table border=\"1\" class=\"dataframe\">\n",
       "  <thead>\n",
       "    <tr style=\"text-align: right;\">\n",
       "      <th></th>\n",
       "      <th>data</th>\n",
       "      <th>tcs</th>\n",
       "      <th>wipro</th>\n",
       "    </tr>\n",
       "  </thead>\n",
       "  <tbody>\n",
       "    <tr>\n",
       "      <th>0</th>\n",
       "      <td>01-01-2023</td>\n",
       "      <td>100</td>\n",
       "      <td>88</td>\n",
       "    </tr>\n",
       "    <tr>\n",
       "      <th>1</th>\n",
       "      <td>02-01-2023</td>\n",
       "      <td>97</td>\n",
       "      <td>89</td>\n",
       "    </tr>\n",
       "    <tr>\n",
       "      <th>2</th>\n",
       "      <td>03-01-2023</td>\n",
       "      <td>88</td>\n",
       "      <td>99</td>\n",
       "    </tr>\n",
       "    <tr>\n",
       "      <th>3</th>\n",
       "      <td>04-01-2023</td>\n",
       "      <td>83</td>\n",
       "      <td>101</td>\n",
       "    </tr>\n",
       "  </tbody>\n",
       "</table>\n",
       "</div>"
      ],
      "text/plain": [
       "         data  tcs  wipro\n",
       "0  01-01-2023  100     88\n",
       "1  02-01-2023   97     89\n",
       "2  03-01-2023   88     99\n",
       "3  04-01-2023   83    101"
      ]
     },
     "execution_count": 2,
     "metadata": {},
     "output_type": "execute_result"
    }
   ],
   "source": [
    "data = pd.read_csv(\"data.csv\")\n",
    "data"
   ]
  },
  {
   "cell_type": "code",
   "execution_count": 3,
   "id": "7998c79e-bc45-415e-9592-4e61a6824bf2",
   "metadata": {},
   "outputs": [],
   "source": [
    "x=data['tcs']\n",
    "y=data['wipro']"
   ]
  },
  {
   "cell_type": "code",
   "execution_count": 4,
   "id": "4e6063b4-3e8b-4ee5-b496-2b6a687cdc5a",
   "metadata": {},
   "outputs": [
    {
     "name": "stdout",
     "output_type": "stream",
     "text": [
      "LinregressResult(slope=-0.8387096774193549, intercept=171.41129032258067, rvalue=-0.9853799910359939, pvalue=0.014620008964006058, stderr=0.10253887700408926, intercept_stderr=9.459454548245848)\n"
     ]
    }
   ],
   "source": [
    "n=stats.linregress(x,y)\n",
    "print(n)"
   ]
  },
  {
   "cell_type": "code",
   "execution_count": 5,
   "id": "f2f33200-e21f-491c-8baf-4dc157550953",
   "metadata": {},
   "outputs": [
    {
     "name": "stdout",
     "output_type": "stream",
     "text": [
      "slope -0.8387096774193549\n",
      "Intercept 171.41129032258067\n"
     ]
    }
   ],
   "source": [
    "s=n.slope\n",
    "print(\"slope\",s)\n",
    "i =n.intercept\n",
    "print(\"Intercept\",i)"
   ]
  },
  {
   "cell_type": "code",
   "execution_count": 6,
   "id": "0c9f8221-e178-48fc-8836-289083b1a399",
   "metadata": {},
   "outputs": [
    {
     "name": "stdout",
     "output_type": "stream",
     "text": [
      "0     87.540323\n",
      "1     90.056452\n",
      "2     97.604839\n",
      "3    101.798387\n",
      "Name: tcs, dtype: float64\n"
     ]
    }
   ],
   "source": [
    "pred_y = s*x + i\n",
    "print(pred_y)"
   ]
  },
  {
   "cell_type": "code",
   "execution_count": 7,
   "id": "0a284ee6-e12d-4d76-ad48-99bd8a523135",
   "metadata": {},
   "outputs": [
    {
     "name": "stdout",
     "output_type": "stream",
     "text": [
      "-0.9853799910359939\n"
     ]
    }
   ],
   "source": [
    "r_squared = n.rvalue\n",
    "print(r_squared)"
   ]
  },
  {
   "cell_type": "code",
   "execution_count": null,
   "id": "934d473e-c435-4af1-8c5a-2f140e946212",
   "metadata": {},
   "outputs": [],
   "source": []
  }
 ],
 "metadata": {
  "kernelspec": {
   "display_name": "Python 3 (ipykernel)",
   "language": "python",
   "name": "python3"
  },
  "language_info": {
   "codemirror_mode": {
    "name": "ipython",
    "version": 3
   },
   "file_extension": ".py",
   "mimetype": "text/x-python",
   "name": "python",
   "nbconvert_exporter": "python",
   "pygments_lexer": "ipython3",
   "version": "3.11.2"
  }
 },
 "nbformat": 4,
 "nbformat_minor": 5
}
