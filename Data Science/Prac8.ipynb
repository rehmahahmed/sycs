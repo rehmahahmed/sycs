{
 "cells": [
  {
   "cell_type": "markdown",
   "id": "6017eeac-90d7-477e-99fd-0441055fe41a",
   "metadata": {},
   "source": [
    "# Practical 8\n",
    "Aim: Data Frames and Basic Data Pre-processing\n",
    "(1) Read data from CSV and JSON files into a data frame.\n",
    "(2) Perform basic data pre-processing tasks such as handling missing values and outliers.\n",
    "(3) Manipulate and transform data using functions like filtering, sorting, and grouping."
   ]
  },
  {
   "cell_type": "markdown",
   "id": "3f27e073-2399-46f4-b902-026e840d5d92",
   "metadata": {},
   "source": [
    "## (1) Read data from CSV and JSON files into a data frame"
   ]
  },
  {
   "cell_type": "code",
   "execution_count": 1,
   "id": "c1ef2031-3d08-4075-8796-412aa3788818",
   "metadata": {},
   "outputs": [
    {
     "name": "stdout",
     "output_type": "stream",
     "text": [
      "   rollno     name  marks  class\n",
      "0       1     suja   80.0   tycs\n",
      "1       2   aneeza   85.0   tycs\n",
      "2       3    saima   90.0   tycs\n",
      "3       4   serena    NaN   tycs\n",
      "4       5   rehmah  100.0   tycs\n",
      "{'fruit': 'Apple', 'size': 'Large', 'color': 'Red'}\n"
     ]
    }
   ],
   "source": [
    "import pandas as pd\n",
    "import json\n",
    "df = pd.read_csv(\"student.csv\", names=[\"rollno\", \"name\", \"marks\", \"class\"])\n",
    "print(df.head())\n",
    "with open(\"fruits.json\") as f:\n",
    "    data = json.load(f)\n",
    "    print(data)"
   ]
  },
  {
   "cell_type": "markdown",
   "id": "072770ee-4de4-4f3d-81c4-fe20c5eca087",
   "metadata": {},
   "source": [
    "## (2) Perform basic data pre-processing tasks such as handling missing values and outliers. "
   ]
  },
  {
   "cell_type": "code",
   "execution_count": 6,
   "id": "e87cf910-e900-472e-b8de-10c9c8686610",
   "metadata": {},
   "outputs": [
    {
     "name": "stdout",
     "output_type": "stream",
     "text": [
      "Original Values: \n",
      "    rollno         name  marks  class\n",
      "0        1         suja   80.0   tycs\n",
      "1        2       aneeza   85.0   tycs\n",
      "2        3        saima   90.0   tycs\n",
      "3        4       serena    NaN   tycs\n",
      "4        5       rehmah  100.0   tycs\n",
      "5        1        dolly   60.0   sycs\n",
      "6        2        milly   65.0   sycs\n",
      "7        3        sally   70.0   sycs\n",
      "8        4        ellie    NaN   sycs\n",
      "9        5         mona   80.0   sycs\n",
      "10       1        apple   40.0   fycs\n",
      "11       2        mango   45.0   fycs\n",
      "12       3       banana    NaN   fycs\n",
      "13       4      chickoo   55.0   fycs\n",
      "14       5   strawberry   60.0   fycs\n",
      "Missing Values Removed:\n",
      "0      80.000000\n",
      "1      85.000000\n",
      "2      90.000000\n",
      "3      69.166667\n",
      "4     100.000000\n",
      "5      60.000000\n",
      "6      65.000000\n",
      "7      70.000000\n",
      "8      69.166667\n",
      "9      80.000000\n",
      "10     40.000000\n",
      "11     45.000000\n",
      "12     69.166667\n",
      "13     55.000000\n",
      "14     60.000000\n",
      "Name: marks, dtype: float64\n",
      "Handeling Outliers:\n",
      "    rollno         name  marks  class\n",
      "0        1         suja   80.0   tycs\n",
      "1        2       aneeza   85.0   tycs\n",
      "2        3        saima   90.0   tycs\n",
      "3        4       serena    NaN   tycs\n",
      "4        5       rehmah   92.5   tycs\n",
      "5        1        dolly   60.0   sycs\n",
      "6        2        milly   65.0   sycs\n",
      "7        3        sally   70.0   sycs\n",
      "8        4        ellie    NaN   sycs\n",
      "9        5         mona   80.0   sycs\n",
      "10       1        apple   47.5   fycs\n",
      "11       2        mango   47.5   fycs\n",
      "12       3       banana    NaN   fycs\n",
      "13       4      chickoo   55.0   fycs\n",
      "14       5   strawberry   60.0   fycs\n",
      "58.75 81.25\n",
      "47.5 92.5\n"
     ]
    }
   ],
   "source": [
    "import pandas as pd\n",
    "df = pd.read_csv(\"student.csv\", names=[\"rollno\", \"name\", \"marks\", \"class\"])\n",
    "print(\"Original Values: \")\n",
    "print(df)\n",
    "print(\"Missing Values Removed:\")\n",
    "print(df['marks'].fillna(df['marks'].mean()))\n",
    "print(\"Handeling Outliers:\")\n",
    "# Find the IQR\n",
    "Q1 = df['marks'].quantile(0.25)\n",
    "Q3 = df['marks'].quantile(0.75)\n",
    "IQR = Q3 - Q1\n",
    "\n",
    "# Define the lower and upper bounds\n",
    "lower_bound = Q1 - 0.5 * IQR\n",
    "upper_bound = Q3 + 0.5 * IQR\n",
    "\n",
    "# Replace outliers with the closest bound\n",
    "df['marks'] = df['marks'].apply(lambda x: lower_bound if x < lower_bound else x)\n",
    "df['marks'] = df['marks'].apply(lambda x: upper_bound if x > upper_bound else x)\n",
    "\n",
    "# Print the updated DataFrame\n",
    "print(df)\n",
    "print(Q1,Q3)\n",
    "print(lower_bound,upper_bound)"
   ]
  },
  {
   "cell_type": "markdown",
   "id": "9a5fd01b-e128-4dfe-82e1-ff2e9f92df79",
   "metadata": {},
   "source": [
    "## (3) Manipulate and transform data using functions like filtering, sorting, and grouping."
   ]
  },
  {
   "cell_type": "code",
   "execution_count": 9,
   "id": "f99ea99f-2607-4caa-a27d-0d60aaa94e3d",
   "metadata": {},
   "outputs": [
    {
     "name": "stdout",
     "output_type": "stream",
     "text": [
      "   rollno     name  marks  class\n",
      "0       1     suja   80.0   tycs\n",
      "1       2   aneeza   85.0   tycs\n",
      "2       3    saima   90.0   tycs\n",
      "3       4   serena    NaN   tycs\n",
      "4       5   rehmah  100.0   tycs\n",
      "{'fruit': 'Apple', 'size': 'Large', 'color': 'Red'}\n",
      "Filtering:\n",
      "    rollno         name  marks  class\n",
      "2        3        saima   90.0   tycs\n",
      "3        4       serena    NaN   tycs\n",
      "4        5       rehmah  100.0   tycs\n",
      "7        3        sally   70.0   sycs\n",
      "8        4        ellie    NaN   sycs\n",
      "9        5         mona   80.0   sycs\n",
      "12       3       banana    NaN   fycs\n",
      "13       4      chickoo   55.0   fycs\n",
      "14       5   strawberry   60.0   fycs\n",
      "Sorting:\n",
      "    rollno         name  marks  class\n",
      "10       1        apple   40.0   fycs\n",
      "11       2        mango   45.0   fycs\n",
      "13       4      chickoo   55.0   fycs\n",
      "5        1        dolly   60.0   sycs\n",
      "14       5   strawberry   60.0   fycs\n",
      "6        2        milly   65.0   sycs\n",
      "7        3        sally   70.0   sycs\n",
      "0        1         suja   80.0   tycs\n",
      "9        5         mona   80.0   sycs\n",
      "1        2       aneeza   85.0   tycs\n",
      "2        3        saima   90.0   tycs\n",
      "4        5       rehmah  100.0   tycs\n",
      "3        4       serena    NaN   tycs\n",
      "8        4        ellie    NaN   sycs\n",
      "12       3       banana    NaN   fycs\n",
      "Grouping:\n",
      "class\n",
      " fycs    50.00\n",
      " sycs    68.75\n",
      " tycs    88.75\n",
      "Name: marks, dtype: float64\n"
     ]
    }
   ],
   "source": [
    "import pandas as pd\n",
    "import json\n",
    "\n",
    "df = pd.read_csv(\"student.csv\", names=[\"rollno\", \"name\", \"marks\", \"class\"])\n",
    "print(df.head())\n",
    "\n",
    "with open(\"fruits.json\") as f:\n",
    "    data = json.load(f)\n",
    "    print(data)\n",
    "\n",
    "filtereddata=df[df['rollno']>2]\n",
    "print(\"Filtering:\")\n",
    "print(filtereddata)\n",
    "\n",
    "sorteddata= df.sort_values(by='marks')\n",
    "print(\"Sorting:\")\n",
    "print(sorteddata)\n",
    "\n",
    "groupeddata=df.groupby('class')['marks'].mean()\n",
    "print(\"Grouping:\")\n",
    "print(groupeddata)"
   ]
  },
  {
   "cell_type": "code",
   "execution_count": null,
   "id": "06a540cf-6cbd-47c0-9c81-1ec16ee64015",
   "metadata": {},
   "outputs": [],
   "source": []
  }
 ],
 "metadata": {
  "kernelspec": {
   "display_name": "Python 3 (ipykernel)",
   "language": "python",
   "name": "python3"
  },
  "language_info": {
   "codemirror_mode": {
    "name": "ipython",
    "version": 3
   },
   "file_extension": ".py",
   "mimetype": "text/x-python",
   "name": "python",
   "nbconvert_exporter": "python",
   "pygments_lexer": "ipython3",
   "version": "3.11.2"
  }
 },
 "nbformat": 4,
 "nbformat_minor": 5
}
