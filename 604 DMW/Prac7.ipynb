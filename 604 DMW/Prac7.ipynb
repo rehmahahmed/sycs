{
 "cells": [
  {
   "cell_type": "code",
   "execution_count": 1,
   "id": "a81aba06-03a7-4fcd-8197-260d21c5d67d",
   "metadata": {},
   "outputs": [
    {
     "name": "stdout",
     "output_type": "stream",
     "text": [
      "Original Dataset:\n",
      "   sepal length (cm)  sepal width (cm)  petal length (cm)  petal width (cm)\n",
      "0                5.1               3.5                1.4               0.2\n",
      "1                4.9               3.0                1.4               0.2\n",
      "2                4.7               3.2                1.3               0.2\n",
      "3                4.6               3.1                1.5               0.2\n",
      "4                5.0               3.6                1.4               0.2\n"
     ]
    }
   ],
   "source": [
    "from sklearn.datasets import load_iris\n",
    "from sklearn.model_selection import train_test_split\n",
    "import pandas as pd\n",
    "\n",
    "iris = load_iris()\n",
    "X = iris.data\n",
    "y = iris.target\n",
    "\n",
    "df = pd.DataFrame(X, columns=iris.feature_names)\n",
    "print(\"Original Dataset:\")\n",
    "print(df.head())\n"
   ]
  },
  {
   "cell_type": "code",
   "execution_count": 3,
   "id": "ea25563c-364e-4532-890c-0173f662a473",
   "metadata": {},
   "outputs": [
    {
     "name": "stdout",
     "output_type": "stream",
     "text": [
      "\n",
      "Dataset after Variance Thresholding:\n",
      "     sepal length (cm)  petal length (cm)  petal width (cm)\n",
      "0                  5.1                1.4               0.2\n",
      "1                  4.9                1.4               0.2\n",
      "2                  4.7                1.3               0.2\n",
      "3                  4.6                1.5               0.2\n",
      "4                  5.0                1.4               0.2\n",
      "..                 ...                ...               ...\n",
      "145                6.7                5.2               2.3\n",
      "146                6.3                5.0               1.9\n",
      "147                6.5                5.2               2.0\n",
      "148                6.2                5.4               2.3\n",
      "149                5.9                5.1               1.8\n",
      "\n",
      "[150 rows x 3 columns]\n"
     ]
    }
   ],
   "source": [
    "from sklearn.feature_selection import VarianceThreshold\n",
    "\n",
    "selector = VarianceThreshold(threshold=0.2)\n",
    "X_high_variance = selector.fit_transform(X)\n",
    "print(\"\\nDataset after Variance Thresholding:\")\n",
    "print(pd.DataFrame(X_high_variance, columns=df.columns[selector.get_support(indices=True)]))"
   ]
  },
  {
   "cell_type": "code",
   "execution_count": null,
   "id": "7f664131-76f4-413c-a6f0-850748a724c0",
   "metadata": {},
   "outputs": [],
   "source": [
    "import numpy as np\n",
    "\n",
    "corr_matrix = pd.DataFrame(X_high_variance, columns=df.columns[selector.get_support(indices=True)]).corr()\n",
    "\n",
    "upper = corr_matrix.where(np.triu(np.ones(corr_matrix.shape), k=1).astype(bool))"
   ]
  }
 ],
 "metadata": {
  "kernelspec": {
   "display_name": "Python 3 (ipykernel)",
   "language": "python",
   "name": "python3"
  },
  "language_info": {
   "codemirror_mode": {
    "name": "ipython",
    "version": 3
   },
   "file_extension": ".py",
   "mimetype": "text/x-python",
   "name": "python",
   "nbconvert_exporter": "python",
   "pygments_lexer": "ipython3",
   "version": "3.11.4"
  }
 },
 "nbformat": 4,
 "nbformat_minor": 5
}
