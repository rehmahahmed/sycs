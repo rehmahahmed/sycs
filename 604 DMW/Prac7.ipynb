{
 "cells": [
  {
   "cell_type": "code",
   "execution_count": 1,
   "id": "a81aba06-03a7-4fcd-8197-260d21c5d67d",
   "metadata": {},
   "outputs": [
    {
     "name": "stdout",
     "output_type": "stream",
     "text": [
      "Original Dataset:\n",
      "   sepal length (cm)  sepal width (cm)  petal length (cm)  petal width (cm)\n",
      "0                5.1               3.5                1.4               0.2\n",
      "1                4.9               3.0                1.4               0.2\n",
      "2                4.7               3.2                1.3               0.2\n",
      "3                4.6               3.1                1.5               0.2\n",
      "4                5.0               3.6                1.4               0.2\n"
     ]
    }
   ],
   "source": [
    "from sklearn.datasets import load_iris\n",
    "from sklearn.model_selection import train_test_split\n",
    "import pandas as pd\n",
    "\n",
    "iris = load_iris()\n",
    "X = iris.data\n",
    "y = iris.target\n",
    "\n",
    "df = pd.DataFrame(X, columns=iris.feature_names)\n",
    "print(\"Original Dataset:\")\n",
    "print(df.head())\n"
   ]
  },
  {
   "cell_type": "code",
   "execution_count": 2,
   "id": "ea25563c-364e-4532-890c-0173f662a473",
   "metadata": {},
   "outputs": [
    {
     "name": "stdout",
     "output_type": "stream",
     "text": [
      "\n",
      "Dataset after Variance Thresholding:\n",
      "     sepal length (cm)  petal length (cm)  petal width (cm)\n",
      "0                  5.1                1.4               0.2\n",
      "1                  4.9                1.4               0.2\n",
      "2                  4.7                1.3               0.2\n",
      "3                  4.6                1.5               0.2\n",
      "4                  5.0                1.4               0.2\n",
      "..                 ...                ...               ...\n",
      "145                6.7                5.2               2.3\n",
      "146                6.3                5.0               1.9\n",
      "147                6.5                5.2               2.0\n",
      "148                6.2                5.4               2.3\n",
      "149                5.9                5.1               1.8\n",
      "\n",
      "[150 rows x 3 columns]\n"
     ]
    }
   ],
   "source": [
    "from sklearn.feature_selection import VarianceThreshold\n",
    "\n",
    "selector = VarianceThreshold(threshold=0.2)\n",
    "X_high_variance = selector.fit_transform(X)\n",
    "print(\"\\nDataset after Variance Thresholding:\")\n",
    "print(pd.DataFrame(X_high_variance, columns=df.columns[selector.get_support(indices=True)]))"
   ]
  },
  {
   "cell_type": "code",
   "execution_count": 4,
   "id": "7f664131-76f4-413c-a6f0-850748a724c0",
   "metadata": {},
   "outputs": [
    {
     "name": "stdout",
     "output_type": "stream",
     "text": [
      "\n",
      "Dataset after removing highly correlated features:\n",
      "   sepal length (cm)  petal length (cm)  petal width (cm)\n",
      "0                5.1                1.4               0.2\n",
      "1                4.9                1.4               0.2\n",
      "2                4.7                1.3               0.2\n",
      "3                4.6                1.5               0.2\n",
      "4                5.0                1.4               0.2\n"
     ]
    }
   ],
   "source": [
    "import numpy as np\n",
    "\n",
    "corr_matrix = pd.DataFrame(X_high_variance, columns=df.columns[selector.get_support(indices=True)]).corr()\n",
    "\n",
    "upper = corr_matrix.where(np.triu(np.ones(corr_matrix.shape), k=1).astype(bool))\n",
    "\n",
    "\n",
    "to_drop = [column for column in upper.columns if any(upper[column] > 0.95)]\n",
    "\n",
    "X_low_correlation = pd.DataFrame(X_high_variance, columns=df.columns[selector.get_support()])\n",
    "print(\"\\nDataset after removing highly correlated features:\")\n",
    "print(X_low_correlation.head())"
   ]
  },
  {
   "cell_type": "code",
   "execution_count": 5,
   "id": "3659b640-1aff-4c62-845e-2748756ef125",
   "metadata": {},
   "outputs": [
    {
     "name": "stdout",
     "output_type": "stream",
     "text": [
      "\n",
      "Dataset after SelectKBest Feature Selection (Top 2 features): \n",
      "     petal length (cm)  petal width (cm)\n",
      "0                  1.0               0.2\n",
      "1                  1.5               0.4\n",
      "2                  4.4               1.4\n",
      "3                  1.6               0.2\n",
      "4                  1.3               0.2\n",
      "..                 ...               ...\n",
      "115                4.0               1.3\n",
      "116                4.5               1.7\n",
      "117                1.2               0.2\n",
      "118                4.0               1.2\n",
      "119                5.9               2.1\n",
      "\n",
      "[120 rows x 2 columns]\n"
     ]
    }
   ],
   "source": [
    "from sklearn.feature_selection import SelectKBest, f_classif\n",
    "# Split the dataset into training and testing sets\n",
    "X_train, X_test, y_train, y_test = train_test_split(X_low_correlation, y, test_size=0.2, random_state=42)\n",
    "# Configure to select the top 2 features\n",
    "k_best_features = 2\n",
    "selector_kbest = SelectKBest(score_func=f_classif, k=k_best_features)\n",
    "# Apply the SelectKBest object to the dataset\n",
    "X_train_kbest = selector_kbest.fit_transform(X_train, y_train)\n",
    "X_test_kbest = selector_kbest.transform(X_test)\n",
    "print(f\"\\nDataset after SelectKBest Feature Selection (Top {k_best_features} features): \")\n",
    "print(pd.DataFrame(X_train_kbest, columns=X_train.columns[selector_kbest.get_support()]))"
   ]
  },
  {
   "cell_type": "code",
   "execution_count": null,
   "id": "f1341d03-54ec-40a1-8bb8-ed3425935873",
   "metadata": {},
   "outputs": [],
   "source": []
  }
 ],
 "metadata": {
  "kernelspec": {
   "display_name": "Python 3 (ipykernel)",
   "language": "python",
   "name": "python3"
  },
  "language_info": {
   "codemirror_mode": {
    "name": "ipython",
    "version": 3
   },
   "file_extension": ".py",
   "mimetype": "text/x-python",
   "name": "python",
   "nbconvert_exporter": "python",
   "pygments_lexer": "ipython3",
   "version": "3.11.4"
  }
 },
 "nbformat": 4,
 "nbformat_minor": 5
}
