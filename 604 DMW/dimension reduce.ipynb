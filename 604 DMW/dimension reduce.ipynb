{
 "cells": [
  {
   "cell_type": "code",
   "execution_count": 3,
   "id": "97d4219f-6f9b-4949-ab3b-36a2ec850499",
   "metadata": {},
   "outputs": [],
   "source": [
    "import pandas as pd\n",
    "from sklearn.model_selection import train_test_split\n",
    "from sklearn.datasets import load_iris\n",
    "from sklearn.feature_selection import VarianceThreshold"
   ]
  },
  {
   "cell_type": "code",
   "execution_count": 4,
   "id": "2b5c91a0-6cfa-4400-b0cd-d2d88386321b",
   "metadata": {},
   "outputs": [
    {
     "name": "stdout",
     "output_type": "stream",
     "text": [
      "og dataset\n",
      "   sepal length (cm)  sepal width (cm)  petal length (cm)  petal width (cm)\n",
      "0                5.1               3.5                1.4               0.2\n",
      "1                4.9               3.0                1.4               0.2\n",
      "2                4.7               3.2                1.3               0.2\n",
      "3                4.6               3.1                1.5               0.2\n",
      "4                5.0               3.6                1.4               0.2\n"
     ]
    }
   ],
   "source": [
    "iris = load_iris()\n",
    "x = iris.data\n",
    "y = iris.target\n",
    "\n",
    "df = pd.DataFrame(x ,columns = iris.feature_names)\n",
    "print(\"og dataset\")\n",
    "print(df.head())"
   ]
  },
  {
   "cell_type": "code",
   "execution_count": 9,
   "id": "b388390d-96a5-4bbd-b0e0-db3ee720e5ef",
   "metadata": {},
   "outputs": [
    {
     "name": "stdout",
     "output_type": "stream",
     "text": [
      "dataset with high varinace\n",
      "     sepal length (cm)  petal length (cm)  petal width (cm)\n",
      "0                  5.1                1.4               0.2\n",
      "1                  4.9                1.4               0.2\n",
      "2                  4.7                1.3               0.2\n",
      "3                  4.6                1.5               0.2\n",
      "4                  5.0                1.4               0.2\n",
      "..                 ...                ...               ...\n",
      "145                6.7                5.2               2.3\n",
      "146                6.3                5.0               1.9\n",
      "147                6.5                5.2               2.0\n",
      "148                6.2                5.4               2.3\n",
      "149                5.9                5.1               1.8\n",
      "\n",
      "[150 rows x 3 columns]\n"
     ]
    }
   ],
   "source": [
    "variance = VarianceThreshold(threshold = 0.2)\n",
    "x_high_var = variance.fit_transform(x)\n",
    "\n",
    "print(\"dataset with high varinace\")\n",
    "print(pd.DataFrame(x_high_var , columns = df.columns[variance.get_support(indices=True)]))"
   ]
  },
  {
   "cell_type": "code",
   "execution_count": 33,
   "id": "5a597a0a-3bd0-48fe-a055-bdfdbac2df0c",
   "metadata": {},
   "outputs": [],
   "source": [
    "corr_matrix = pd.DataFrame(x_high_var , columns = df.columns[variance.get_support(indices=True)]).corr().abs()"
   ]
  },
  {
   "cell_type": "code",
   "execution_count": 34,
   "id": "ce57cc94-004c-4471-8f35-64f8b316753c",
   "metadata": {},
   "outputs": [
    {
     "data": {
      "text/html": [
       "<div>\n",
       "<style scoped>\n",
       "    .dataframe tbody tr th:only-of-type {\n",
       "        vertical-align: middle;\n",
       "    }\n",
       "\n",
       "    .dataframe tbody tr th {\n",
       "        vertical-align: top;\n",
       "    }\n",
       "\n",
       "    .dataframe thead th {\n",
       "        text-align: right;\n",
       "    }\n",
       "</style>\n",
       "<table border=\"1\" class=\"dataframe\">\n",
       "  <thead>\n",
       "    <tr style=\"text-align: right;\">\n",
       "      <th></th>\n",
       "      <th>sepal length (cm)</th>\n",
       "      <th>petal length (cm)</th>\n",
       "      <th>petal width (cm)</th>\n",
       "    </tr>\n",
       "  </thead>\n",
       "  <tbody>\n",
       "    <tr>\n",
       "      <th>sepal length (cm)</th>\n",
       "      <td>1.000000</td>\n",
       "      <td>0.871754</td>\n",
       "      <td>0.817941</td>\n",
       "    </tr>\n",
       "    <tr>\n",
       "      <th>petal length (cm)</th>\n",
       "      <td>0.871754</td>\n",
       "      <td>1.000000</td>\n",
       "      <td>0.962865</td>\n",
       "    </tr>\n",
       "    <tr>\n",
       "      <th>petal width (cm)</th>\n",
       "      <td>0.817941</td>\n",
       "      <td>0.962865</td>\n",
       "      <td>1.000000</td>\n",
       "    </tr>\n",
       "  </tbody>\n",
       "</table>\n",
       "</div>"
      ],
      "text/plain": [
       "                   sepal length (cm)  petal length (cm)  petal width (cm)\n",
       "sepal length (cm)           1.000000           0.871754          0.817941\n",
       "petal length (cm)           0.871754           1.000000          0.962865\n",
       "petal width (cm)            0.817941           0.962865          1.000000"
      ]
     },
     "execution_count": 34,
     "metadata": {},
     "output_type": "execute_result"
    }
   ],
   "source": [
    "corr_matrix"
   ]
  },
  {
   "cell_type": "code",
   "execution_count": 35,
   "id": "f2c08b59-b89c-47fc-b30a-92ec02b33a85",
   "metadata": {},
   "outputs": [],
   "source": [
    "#selects upper traingle of correlation matrix\n",
    "import numpy as np\n",
    "upper = corr_matrix.where(np.triu(np.ones(corr_matrix.shape) , k=1).astype(bool))\n",
    "\n"
   ]
  },
  {
   "cell_type": "code",
   "execution_count": 38,
   "id": "590219ce-31ff-4ad9-b1b7-707e8b2d279b",
   "metadata": {},
   "outputs": [
    {
     "name": "stdout",
     "output_type": "stream",
     "text": [
      "dataset after removing highly correlated features: \n",
      "   sepal length (cm)  petal length (cm)\n",
      "0                5.1                1.4\n",
      "1                4.9                1.4\n",
      "2                4.7                1.3\n",
      "3                4.6                1.5\n",
      "4                5.0                1.4\n"
     ]
    }
   ],
   "source": [
    "#find features with correlation greater than 0.95\n",
    "to_drop = [col for col in upper.columns if any(upper[col] > 0.95)]\n",
    "\n",
    "x_low_corr = pd.DataFrame(x_high_var , columns = df.columns[variance.get_support(indices=True)]).drop(to_drop , axis=1)\n",
    "print(\"dataset after removing highly correlated features: \")\n",
    "print(x_low_corr.head())"
   ]
  },
  {
   "cell_type": "code",
   "execution_count": null,
   "id": "59b5f560-ef65-4041-b40d-7902c6bd5203",
   "metadata": {},
   "outputs": [],
   "source": []
  },
  {
   "cell_type": "code",
   "execution_count": null,
   "id": "7c8b7c68-8c4b-40a8-9780-c9ad01f16212",
   "metadata": {},
   "outputs": [],
   "source": []
  }
 ],
 "metadata": {
  "kernelspec": {
   "display_name": "Python 3 (ipykernel)",
   "language": "python",
   "name": "python3"
  },
  "language_info": {
   "codemirror_mode": {
    "name": "ipython",
    "version": 3
   },
   "file_extension": ".py",
   "mimetype": "text/x-python",
   "name": "python",
   "nbconvert_exporter": "python",
   "pygments_lexer": "ipython3",
   "version": "3.11.5"
  }
 },
 "nbformat": 4,
 "nbformat_minor": 5
}
