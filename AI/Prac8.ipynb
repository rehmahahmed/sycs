{
 "cells": [
  {
   "cell_type": "code",
   "execution_count": 1,
   "id": "597d586a-fa35-487a-91cf-51c513e18ba6",
   "metadata": {},
   "outputs": [],
   "source": [
    "import pandas\n",
    "from sklearn import model_selection\n",
    "from sklearn.ensemble import AdaBoostClassifier"
   ]
  },
  {
   "cell_type": "code",
   "execution_count": 2,
   "id": "c2676d6b-b106-4a23-ade2-01005ad24acf",
   "metadata": {},
   "outputs": [],
   "source": [
    "url = \"https://raw.githubusercontent.com/jbrownlee/Datasets/master/pima-indians-diabetes.data.csv\"\n",
    "names = ['preg', 'plas', 'pres', 'skin', 'test', 'mass', 'pedi', 'age', 'class']\n",
    "dataframe = pandas.read_csv(url, names=names)\n",
    "array = dataframe.values\n",
    "X = array[:,0:8]\n",
    "Y = array[:,8]\n",
    "seed = 7\n",
    "num_trees = 30"
   ]
  },
  {
   "cell_type": "code",
   "execution_count": 3,
   "id": "ed3f60c1-0559-48ed-8c26-d14753b3b701",
   "metadata": {},
   "outputs": [],
   "source": [
    "#kfold makes trees with split number.\n",
    "#kfold = model_selection.KFold(n_splits=10, random_state=seed)\n",
    "#n_estimators : This is the number of trees you want to build before predictions.\n",
    "#Higher number of trees give you better voting options and perfomance"
   ]
  },
  {
   "cell_type": "code",
   "execution_count": 4,
   "id": "bcc55d6e-b070-45aa-8849-70de5d1e68cb",
   "metadata": {},
   "outputs": [
    {
     "name": "stdout",
     "output_type": "stream",
     "text": [
      "0.7617774382480265\n"
     ]
    }
   ],
   "source": [
    "model = AdaBoostClassifier(n_estimators=num_trees, random_state=seed)\n",
    "#cross_val_score method is used to calculate the accuracy of model sliced into x, y\n",
    "#cross validator cv is optional cv=kfold\n",
    "results = model_selection.cross_val_score(model, X, Y)\n",
    "print(results.mean()) "
   ]
  }
 ],
 "metadata": {
  "kernelspec": {
   "display_name": "Python 3 (ipykernel)",
   "language": "python",
   "name": "python3"
  },
  "language_info": {
   "codemirror_mode": {
    "name": "ipython",
    "version": 3
   },
   "file_extension": ".py",
   "mimetype": "text/x-python",
   "name": "python",
   "nbconvert_exporter": "python",
   "pygments_lexer": "ipython3",
   "version": "3.11.4"
  }
 },
 "nbformat": 4,
 "nbformat_minor": 5
}
